{
 "cells": [
  {
   "cell_type": "markdown",
   "metadata": {},
   "source": [
    "3.创建名为user的表"
   ]
  },
  {
   "cell_type": "code",
   "execution_count": null,
   "metadata": {
    "vscode": {
     "languageId": "plaintext"
    }
   },
   "outputs": [],
   "source": [
    "CREATE TABLE user (\n",
    "id INT AUTO_INCREMENT PRIMARY KEY,\n",
    "name VARCHAR(255),\n",
    "sex VARCHAR(10),\n",
    "age INT,\n",
    "phone VARCHAR(15)\n",
    ");"
   ]
  },
  {
   "cell_type": "code",
   "execution_count": null,
   "metadata": {
    "vscode": {
     "languageId": "plaintext"
    }
   },
   "outputs": [],
   "source": [
    "插入几条数据"
   ]
  },
  {
   "cell_type": "code",
   "execution_count": null,
   "metadata": {
    "vscode": {
     "languageId": "plaintext"
    }
   },
   "outputs": [],
   "source": [
    "INSERT INTO user (name, sex, age, phone)\n",
    "VALUES\n",
    "('Joe', 'Male', 50, '123-456-7890'),\n",
    "('Jane', 'Female', 25, '987-654-3210'),\n",
    "('Sam', 'Male', 35, '555-123-4567');"
   ]
  },
  {
   "cell_type": "markdown",
   "metadata": {},
   "source": [
    "4.查询user表中年龄在20~30范围的用户"
   ]
  },
  {
   "cell_type": "code",
   "execution_count": null,
   "metadata": {
    "vscode": {
     "languageId": "plaintext"
    }
   },
   "outputs": [],
   "source": [
    "SELECT * FROM user\n",
    "WHERE age BETWEEN 20 AND 30;\n",
    "\n"
   ]
  },
  {
   "cell_type": "markdown",
   "metadata": {},
   "source": [
    "5.删除user表中名字含”张“的用户\n"
   ]
  },
  {
   "cell_type": "code",
   "execution_count": null,
   "metadata": {
    "vscode": {
     "languageId": "plaintext"
    }
   },
   "outputs": [],
   "source": [
    "DELETE FROM user\n",
    "WHERE name LIKE '%张%';"
   ]
  },
  {
   "cell_type": "markdown",
   "metadata": {},
   "source": [
    "6.计算user表中所有用户的平均年龄"
   ]
  },
  {
   "cell_type": "code",
   "execution_count": null,
   "metadata": {
    "vscode": {
     "languageId": "plaintext"
    }
   },
   "outputs": [],
   "source": [
    "SELECT AVG(age) as average_age FROM user;"
   ]
  },
  {
   "cell_type": "markdown",
   "metadata": {},
   "source": [
    "7.查询user表中年龄在20~30的用户，名字包含”张“的用户，并按照年龄从大到小排序输出"
   ]
  },
  {
   "cell_type": "code",
   "execution_count": null,
   "metadata": {
    "vscode": {
     "languageId": "plaintext"
    }
   },
   "outputs": [],
   "source": [
    "SELECT *FROM user\n",
    "WHERE age BETWEEN 20 AND 30 AND name LIKE '%张%'\n",
    "ORDER BY age DESC;"
   ]
  },
  {
   "cell_type": "markdown",
   "metadata": {},
   "source": [
    "8.新建team表(id,teamName)和score表(id,teamid,userid,score).taemid为指向team表id的外键，userid为指向user表id的外键"
   ]
  },
  {
   "cell_type": "code",
   "execution_count": null,
   "metadata": {
    "vscode": {
     "languageId": "plaintext"
    }
   },
   "outputs": [],
   "source": [
    "--创建team表\n",
    "CREATE TABLE team (\n",
    "id INT AUTO_INCREMENT PRIMARY KEY,\n",
    "teamName VARCHAR(255) NOT NULL\n",
    ");"
   ]
  },
  {
   "cell_type": "code",
   "execution_count": null,
   "metadata": {
    "vscode": {
     "languageId": "plaintext"
    }
   },
   "outputs": [],
   "source": [
    "-- 创建 score 表\n",
    "CREATE TABLE score (\n",
    "id INT AUTO_INCREMENT PRIMARY KEY,\n",
    "teamid INT,\n",
    "userid INT,\n",
    "score INT,\n",
    "FOREIGN KEY (teamid) REFERENCES team(id),\n",
    "FOREIGN KEY (userid) REFERENCES user(id)\n",
    ");"
   ]
  },
  {
   "cell_type": "markdown",
   "metadata": {},
   "source": [
    "9.查询teamName为\"ECNU\"的队伍中，年龄小于20的用户们"
   ]
  },
  {
   "cell_type": "code",
   "execution_count": null,
   "metadata": {
    "vscode": {
     "languageId": "plaintext"
    }
   },
   "outputs": [],
   "source": [
    "SELECT user.* FROM user\n",
    "JOIN score ON user.id = score.userid\n",
    "JOIN team ON score.teamid = team.id\n",
    "WHERE team.teamName = 'ECNU' AND user.age < 20;"
   ]
  },
  {
   "cell_type": "markdown",
   "metadata": {},
   "source": [
    "10.计算teamName为”ECNU\"的总分(score存在null值，null值默认为0)"
   ]
  },
  {
   "cell_type": "code",
   "execution_count": null,
   "metadata": {
    "vscode": {
     "languageId": "plaintext"
    }
   },
   "outputs": [],
   "source": [
    "SELECT team.teamName, COALESCE(SUM(score.score), 0) AS totalScore FROM team\n",
    "LEFT JOIN score ON team.id = score.teamid\n",
    "WHERE team.teamName = 'ECNU'\n",
    "GROUP BY team.teamName;"
   ]
  }
 ],
 "metadata": {
  "language_info": {
   "name": "python"
  }
 },
 "nbformat": 4,
 "nbformat_minor": 2
}
