{
 "cells": [
  {
   "cell_type": "code",
   "execution_count": null,
   "metadata": {},
   "outputs": [],
   "source": [
    "nums = [5,3,6,4,1,2,8,7]\n",
    "def ShellSort(nums):\n",
    "    step = len(nums)//2 #初始化增量为数组长度的一半\n",
    "    while step > 0:     #增量必须是大于0的整数\n",
    "        for i in range(step,len(nums)):#遍历需要进行插入排序的数\n",
    "            ind = i\n",
    "            while ind >= step and nums[ind] < nums[ind-step]: #对每组进行插入排序\n",
    "                nums[ind],nums[ind-step] = nums[ind-step],nums[ind]\n",
    "                ind -= step\n",
    "        step //= 2      #增量缩小一半\n",
    "    print(nums)\n",
    "ShellSort(nums)"
   ]
  },
  {
   "cell_type": "markdown",
   "metadata": {},
   "source": [
    "时间复杂度：\n",
    "    初始步长为step,下一次步长为step=step/2\n",
    "    第一次比较的次数为（每组2个元素）： t1=1*n/2\n",
    "    第二次比较的次数为（每组4个元素）： t2=（1+2+3）*n/4      （最坏情况）\n",
    "    第三次比较的次数为（每组8个元素）： t3=（1+2+...+7）*n/8  （最坏情况）\n",
    "    ...\n",
    "    第m次比较的次数为（每组2^m个元素）：tm=（1+2+...+2^m-1）*n/(2^m)  （最坏情况）\n",
    "    累加得O(n^2)\n",
    "    但是希尔排序的时间复杂度依赖于步数step的1选取的排列，在大多数情况下优于直接插入排序\n",
    "    经过优化后的步数选取可使时间复杂度达到O(n^(4/3))\n",
    "\n",
    "\n"
   ]
  },
  {
   "cell_type": "markdown",
   "metadata": {},
   "source": [
    "空间复杂度：\n",
    "    在整个程序中，只有在插入排序时额外找了ind来储存键值的角标\n",
    "    因此空间复杂度为O(1)"
   ]
  }
 ],
 "metadata": {
  "language_info": {
   "name": "python"
  }
 },
 "nbformat": 4,
 "nbformat_minor": 2
}
